{
 "cells": [
  {
   "cell_type": "code",
   "execution_count": 59,
   "metadata": {},
   "outputs": [],
   "source": [
    "import pandas as pd\n",
    "\n",
    "data_set = pd.read_csv('data.csv')  "
   ]
  },
  {
   "cell_type": "code",
   "execution_count": 60,
   "metadata": {},
   "outputs": [],
   "source": [
    "data_set1=data_set[data_set['Unnamed: 0'] < 25]"
   ]
  },
  {
   "cell_type": "code",
   "execution_count": 61,
   "metadata": {},
   "outputs": [],
   "source": [
    "df1 = pd.DataFrame(data_set1,columns = ['Name','Wage','Value'])"
   ]
  },
  {
   "cell_type": "code",
   "execution_count": 62,
   "metadata": {},
   "outputs": [],
   "source": [
    "def value_to_float(x):\n",
    "    if type(x) == float or type(x) == int:\n",
    "        return x\n",
    "    if 'K' in x:\n",
    "        if len(x) > 1:\n",
    "            return float(x.replace('K', '')) * 1000\n",
    "        return 1000.0\n",
    "    if 'M' in x:\n",
    "        if len(x) > 1:\n",
    "            return float(x.replace('M', '')) * 1000000\n",
    "        return 1000000.0\n",
    "    if 'B' in x:\n",
    "        return float(x.replace('B', '')) * 1000000000\n",
    "    return 0.0\n",
    "\n",
    "wage = df1['Wage'].replace('[/€,]',' ', regex=True).apply(value_to_float)\n",
    "value = df1['Value'].replace('[/€,]',' ', regex=True).apply(value_to_float)\n",
    "df1['Value'] = value\n",
    "df1['Wage'] = wage"
   ]
  },
  {
   "cell_type": "code",
   "execution_count": 63,
   "metadata": {},
   "outputs": [],
   "source": [
    "df1['Difference'] = df1['Value'] - df1['Wage']"
   ]
  },
  {
   "cell_type": "code",
   "execution_count": 64,
   "metadata": {},
   "outputs": [
    {
     "name": "stdout",
     "output_type": "stream",
     "text": [
      "                 Name      Wage        Value   Difference\n",
      "0            L. Messi  565000.0  110500000.0  109935000.0\n",
      "1   Cristiano Ronaldo  405000.0   77000000.0   76595000.0\n",
      "2           Neymar Jr  290000.0  118500000.0  118210000.0\n",
      "3              De Gea  260000.0   72000000.0   71740000.0\n",
      "4        K. De Bruyne  355000.0  102000000.0  101645000.0\n",
      "5           E. Hazard  340000.0   93000000.0   92660000.0\n",
      "6           L. Modrić  420000.0   67000000.0   66580000.0\n",
      "7           L. Suárez  455000.0   80000000.0   79545000.0\n",
      "8        Sergio Ramos  380000.0   51000000.0   50620000.0\n",
      "9            J. Oblak   94000.0   68000000.0   67906000.0\n",
      "10     R. Lewandowski  205000.0   77000000.0   76795000.0\n",
      "11           T. Kroos  355000.0   76500000.0   76145000.0\n",
      "12           D. Godín  125000.0   44000000.0   43875000.0\n",
      "13        David Silva  285000.0   60000000.0   59715000.0\n",
      "14           N. Kanté  225000.0   63000000.0   62775000.0\n",
      "15          P. Dybala  205000.0   89000000.0   88795000.0\n",
      "16            H. Kane  205000.0   83500000.0   83295000.0\n",
      "17       A. Griezmann  145000.0   78000000.0   77855000.0\n",
      "18      M. ter Stegen  240000.0   58000000.0   57760000.0\n",
      "19        T. Courtois  240000.0   53500000.0   53260000.0\n",
      "20    Sergio Busquets  315000.0   51500000.0   51185000.0\n",
      "21          E. Cavani  200000.0   60000000.0   59800000.0\n",
      "22           M. Neuer  130000.0   38000000.0   37870000.0\n",
      "23          S. Agüero  300000.0   64500000.0   64200000.0\n",
      "24       G. Chiellini  215000.0   27000000.0   26785000.0\n"
     ]
    }
   ],
   "source": [
    "print(df1)"
   ]
  },
  {
   "cell_type": "code",
   "execution_count": 74,
   "metadata": {},
   "outputs": [
    {
     "data": {
      "image/png": "[encoded data removed]",
      "text/plain": [
       "<Figure size 432x288 with 1 Axes>"
      ]
     },
     "metadata": {
      "needs_background": "light"
     },
     "output_type": "display_data"
    }
   ],
   "source": [
    "import seaborn as sns\n",
    "\n",
    "sns.scatterplot(x=\"Value\", y=\"Wage\", data=df1);"
   ]
  },
  {
   "cell_type": "code",
   "execution_count": 83,
   "metadata": {},
   "outputs": [],
   "source": [
    "from bokeh.plotting import figure,show\n",
    "from bokeh.models import HoverTool\n",
    "\n",
    "TOOLTIPS = HoverTool(tooltips=[\n",
    "    (\"index\", \"$index\"),\n",
    "    (\"(Wage,Value)\", \"(@Wage, @Value)\"),\n",
    "    (\"Name\", \"@Name\"),\n",
    "])\n",
    "\n",
    "p = figure(title=\"MyProj\", x_axis_label='Wage', y_axis_label='Value', plot_width=700, plot_height=700 , tools=[TOOLTIPS])\n",
    "p.circle('Wage', 'Value', size=10, source=df1)\n",
    "show(p)"
   ]
  },
  {
   "cell_type": "code",
   "execution_count": 68,
   "metadata": {},
   "outputs": [
    {
     "data": {
      "image/png": "[encoded data removed]",
      "text/plain": [
       "<Figure size 432x432 with 3 Axes>"
      ]
     },
     "metadata": {
      "needs_background": "light"
     },
     "output_type": "display_data"
    }
   ],
   "source": []
  }
 ],
 "metadata": {
  "kernelspec": {
   "display_name": "Python 3",
   "language": "python",
   "name": "python3"
  },
  "language_info": {
   "codemirror_mode": {
    "name": "ipython",
    "version": 3
   },
   "file_extension": ".py",
   "mimetype": "text/x-python",
   "name": "python",
   "nbconvert_exporter": "python",
   "pygments_lexer": "ipython3",
   "version": "3.7.6"
  }
 },
 "nbformat": 4,
 "nbformat_minor": 4
}
